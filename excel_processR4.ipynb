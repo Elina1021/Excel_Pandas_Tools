{
 "cells": [
  {
   "cell_type": "code",
   "execution_count": 1,
   "metadata": {
    "ExecuteTime": {
     "end_time": "2019-06-27T04:01:03.239983Z",
     "start_time": "2019-06-27T04:01:02.706077Z"
    }
   },
   "outputs": [],
   "source": [
    "import pandas as pd"
   ]
  },
  {
   "cell_type": "code",
   "execution_count": 2,
   "metadata": {
    "ExecuteTime": {
     "end_time": "2019-06-27T04:01:03.467018Z",
     "start_time": "2019-06-27T04:01:03.457000Z"
    }
   },
   "outputs": [],
   "source": [
    "def read_excel(filename,sheet_name:str='data'):\n",
    "        # 读取原始数据, 返回pandas\n",
    "    df = pd.read_excel(filename,sheet_name=sheet_name)\n",
    "    return df\n",
    "\n",
    "def drop_cols_lst(months):\n",
    "    month_lst = list(range(1,13))# 1-12月   \n",
    "    for month in months:\n",
    "        month_lst.remove(month)# 在要删除的列中排除所需的列\n",
    "    fixed_drop_column = ['折算花费（万元）'] # 固定删除列\n",
    "    drop_cols = [str(i)+'月'for i in month_lst] # 要删除的列名列表\n",
    "    drop_cols.append(fixed_drop_column[0])\n",
    "    return drop_cols \n",
    "\n",
    "def filter_data(df,drop_cols):    \n",
    "    criteria_rows = {'年份':[year],\n",
    "                     '品牌':BRANDS}\n",
    "    for k,v in criteria_rows.items():\n",
    "        df = df[df[k].isin(v)]\n",
    "    df = df.drop(drop_cols,axis=1)\n",
    "    return df\n",
    "    \n",
    "def repivot(df):\n",
    "    INDEX_COLUMNS = ['数据源','车型','品牌','汽车厂商','类型','媒体大类','媒体中类','媒体名称',\n",
    "                     '折算系数','省份','城市','UD-显示屏','UD-视频/非视频','FCA_SUVSeg',\n",
    "                     'FCA_Region','FCA_KeyCom','FCA_Tier','Remark','年份']\n",
    "    # 将index_columns各列先设为index，然后行列转置，最后取消index\n",
    "    df = df.set_index(INDEX_COLUMNS).stack().reset_index()\n",
    "    columns = {'level_19':'月份',0:'折算花费（万元）'} \n",
    "    result = df.rename(columns,axis=1)# 改列名\n",
    "    # 将月份列的值去掉“月”字并转为数值格式\n",
    "    result['月份'] = result['月份'].str.replace('月','').astype(int)\n",
    "    return result"
   ]
  },
  {
   "cell_type": "code",
   "execution_count": 3,
   "metadata": {
    "ExecuteTime": {
     "end_time": "2019-06-27T04:01:04.843874Z",
     "start_time": "2019-06-27T04:01:04.111912Z"
    }
   },
   "outputs": [],
   "source": [
    "if __name__ == '__main__':\n",
    "    filename = r'C:\\Users\\aliyang4\\Desktop\\xlwings_test\\data.xlsx'\n",
    "    year = 2019\n",
    "    months = [4]\n",
    "    #BRANDS = ['奥迪','宝马','保时捷','奔驰','捷豹','路虎','玛莎拉蒂']# 玛莎所需品牌\n",
    "    BRANDS = ['奔驰','凯迪拉克','捷豹','奥迪','宝马','雷克萨斯','阿尔法罗密欧',\n",
    "             '路虎','林肯','沃尔沃','保时捷','英菲尼迪','DS','讴歌','Smart','MINI']# AR所需品牌 \n",
    "    df = read_excel(filename,sheet_name='data')\n",
    "    drop_cols = drop_cols_lst(months)\n",
    "    df = filter_data(df,drop_cols)\n",
    "    result = repivot(df)\n",
    "    result.to_excel(r'currentdata.xlsx',sheet_name='rawdata',header=True, index=False)"
   ]
  },
  {
   "cell_type": "code",
   "execution_count": null,
   "metadata": {},
   "outputs": [],
   "source": []
  }
 ],
 "metadata": {
  "kernelspec": {
   "display_name": "Python 3",
   "language": "python",
   "name": "python3"
  },
  "language_info": {
   "codemirror_mode": {
    "name": "ipython",
    "version": 3
   },
   "file_extension": ".py",
   "mimetype": "text/x-python",
   "name": "python",
   "nbconvert_exporter": "python",
   "pygments_lexer": "ipython3",
   "version": "3.7.3"
  }
 },
 "nbformat": 4,
 "nbformat_minor": 2
}
