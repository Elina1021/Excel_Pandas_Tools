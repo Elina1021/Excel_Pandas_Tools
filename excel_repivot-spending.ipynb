{
 "cells": [
  {
   "cell_type": "code",
   "execution_count": 14,
   "metadata": {
    "ExecuteTime": {
     "end_time": "2019-06-27T06:07:11.446298Z",
     "start_time": "2019-06-27T06:07:11.441312Z"
    }
   },
   "outputs": [],
   "source": [
    "import pandas as pd\n",
    "import os"
   ]
  },
  {
   "cell_type": "code",
   "execution_count": 8,
   "metadata": {
    "ExecuteTime": {
     "end_time": "2019-06-27T06:05:32.040664Z",
     "start_time": "2019-06-27T06:05:32.033683Z"
    }
   },
   "outputs": [],
   "source": [
    "def read_excel(filename,sheet_name:str='data'):\n",
    "    '''读取原始数据, 返回dataframe\n",
    "    '''\n",
    "    df = pd.read_excel(filename,sheet_name=sheet_name)\n",
    "    return df"
   ]
  },
  {
   "cell_type": "code",
   "execution_count": 9,
   "metadata": {
    "ExecuteTime": {
     "end_time": "2019-06-27T06:05:32.587206Z",
     "start_time": "2019-06-27T06:05:32.579227Z"
    }
   },
   "outputs": [],
   "source": [
    "def get_drop_cols(months):\n",
    "    '''获取要删除的列\n",
    "    months: 要保留的列\n",
    "    '''\n",
    "    fixed_drop_col = '折算花费（万元）' # 固定删除列\n",
    "    month_lst = list(range(1,13))# 1-12月   \n",
    "    for month in months:\n",
    "        month_lst.remove(month)# 在要删除的列中排除所需的列\n",
    "    drop_cols = [str(i)+'月'for i in month_lst] # 要删除的列名列表\n",
    "    drop_cols.append(fixed_drop_col)\n",
    "    return drop_cols "
   ]
  },
  {
   "cell_type": "code",
   "execution_count": 17,
   "metadata": {
    "ExecuteTime": {
     "end_time": "2019-06-27T06:08:01.839583Z",
     "start_time": "2019-06-27T06:08:01.820624Z"
    }
   },
   "outputs": [],
   "source": [
    "def main():\n",
    "    filename = 'data.xlsx'\n",
    "    output_filename = 'currentdata.txt'\n",
    "    \n",
    "    months = [4]\n",
    "    \n",
    "    year = 2019\n",
    "    BRANDS = ['奔驰','凯迪拉克','捷豹','奥迪','宝马','雷克萨斯','阿尔法罗密欧',\n",
    "             '路虎','林肯','沃尔沃','保时捷','英菲尼迪','DS','讴歌','Smart','MINI']# AR所需品牌 \n",
    "    criteria_rows = {'年份':[year],\n",
    "                     '品牌':BRANDS}\n",
    "    \n",
    "    INDEX_COLUMNS = ['数据源','车型','品牌','汽车厂商','类型','媒体大类','媒体中类','媒体名称',\n",
    "                 '折算系数','省份','城市','UD-显示屏','UD-视频/非视频','FCA_SUVSeg',\n",
    "                 'FCA_Region','FCA_KeyCom','FCA_Tier','Remark','年份']\n",
    "\n",
    "    \n",
    "    df = read_excel(filename,sheet_name='data')\n",
    "    # 删除列\n",
    "    drop_cols = get_drop_cols(months)\n",
    "    df = df.drop(drop_cols,axis=1)\n",
    "    # 筛选行\n",
    "    for k,v in criteria_rows.items():\n",
    "        df = df[df[k].isin(v)]\n",
    "    # 数据旋转\n",
    "    df = df.set_index(INDEX_COLUMNS).stack().reset_index()\n",
    "    # 重命名列\n",
    "        ## 如何自动判断\n",
    "    col_month_name = '月份'\n",
    "    col_data_name = '折算花费（万元）'\n",
    "    columns_rename_dict = {'level_19':col_month_name,0:col_data_name} \n",
    "    df = df.rename(columns_rename_dict,axis=1)\n",
    "    # 值调整\n",
    "    df[col_month_name] = df[col_month_name].str.replace(col_month_name[0],'').astype(int)\n",
    "    # 输出到csv\n",
    "    df.to_csv(output_filename,sep='\\t',header=True, index=False)\n",
    "    \n",
    "    try:\n",
    "        os.startfile(output_filename)\n",
    "    except Exception as e:\n",
    "        print(e)\n",
    "        raise\n",
    "    \n",
    "    print(f'please find the datafile {output_filename},thanks')"
   ]
  },
  {
   "cell_type": "code",
   "execution_count": 19,
   "metadata": {
    "ExecuteTime": {
     "end_time": "2019-06-27T06:08:12.885922Z",
     "start_time": "2019-06-27T06:08:11.534192Z"
    }
   },
   "outputs": [
    {
     "name": "stdout",
     "output_type": "stream",
     "text": [
      "please find the datafile currentdata.txt,thanks\n"
     ]
    }
   ],
   "source": [
    "if __name__ == '__main__':\n",
    "    main()"
   ]
  },
  {
   "cell_type": "code",
   "execution_count": 6,
   "metadata": {
    "ExecuteTime": {
     "end_time": "2019-06-27T06:03:43.577995Z",
     "start_time": "2019-06-27T06:03:42.009181Z"
    }
   },
   "outputs": [],
   "source": []
  },
  {
   "cell_type": "code",
   "execution_count": 17,
   "metadata": {},
   "outputs": [],
   "source": []
  },
  {
   "cell_type": "code",
   "execution_count": null,
   "metadata": {},
   "outputs": [],
   "source": []
  }
 ],
 "metadata": {
  "kernelspec": {
   "display_name": "Python 3",
   "language": "python",
   "name": "python3"
  },
  "varInspector": {
   "cols": {
    "lenName": 16,
    "lenType": 16,
    "lenVar": 40
   },
   "kernels_config": {
    "python": {
     "delete_cmd_postfix": "",
     "delete_cmd_prefix": "del ",
     "library": "var_list.py",
     "varRefreshCmd": "print(var_dic_list())"
    },
    "r": {
     "delete_cmd_postfix": ") ",
     "delete_cmd_prefix": "rm(",
     "library": "var_list.r",
     "varRefreshCmd": "cat(var_dic_list()) "
    }
   },
   "types_to_exclude": [
    "module",
    "function",
    "builtin_function_or_method",
    "instance",
    "_Feature"
   ],
   "window_display": false
  }
 },
 "nbformat": 4,
 "nbformat_minor": 2
}
